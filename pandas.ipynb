{
  "nbformat": 4,
  "nbformat_minor": 0,
  "metadata": {
    "colab": {
      "provenance": []
    },
    "kernelspec": {
      "name": "python3",
      "display_name": "Python 3"
    },
    "language_info": {
      "name": "python"
    }
  },
  "cells": [
    {
      "cell_type": "code",
      "execution_count": null,
      "metadata": {
        "id": "XN4adXUJYL36"
      },
      "outputs": [],
      "source": [
        "import pandas as pd\n"
      ]
    },
    {
      "cell_type": "code",
      "source": [
        "\n",
        "\n",
        "data = {\n",
        "    'EmployeeID': [101, 102, 103, 104, 105, 106, 103, 107],\n",
        "    'Name': ['Alice', 'Bob', 'Charlie', 'David', np.nan, 'Frank', 'Charlie', 'Helen'],\n",
        "    'Department': ['HR', 'IT', 'Finance', 'IT', 'HR', np.nan, 'Finance', 'IT'],\n",
        "    'Salary': [50000, 60000, 70000, np.nan, 52000, 58000, 70000, 62000],\n",
        "    'JoiningDate': ['2020-01-15', '2019-03-10', '2021-06-25', '2018-11-05', '2020-09-01', '2022-01-20', '2021-06-25', np.nan]\n",
        "}\n",
        "df = pd.DataFrame(data)\n",
        "print(df)\n"
      ],
      "metadata": {
        "colab": {
          "base_uri": "https://localhost:8080/"
        },
        "id": "FRwZZzpidKJD",
        "outputId": "13d08838-1fb3-43b8-cc13-e344fb3dafff"
      },
      "execution_count": null,
      "outputs": [
        {
          "output_type": "stream",
          "name": "stdout",
          "text": [
            "   EmployeeID     Name Department   Salary JoiningDate\n",
            "0         101    Alice         HR  50000.0  2020-01-15\n",
            "1         102      Bob         IT  60000.0  2019-03-10\n",
            "2         103  Charlie    Finance  70000.0  2021-06-25\n",
            "3         104    David         IT      NaN  2018-11-05\n",
            "4         105      NaN         HR  52000.0  2020-09-01\n",
            "5         106    Frank        NaN  58000.0  2022-01-20\n",
            "6         103  Charlie    Finance  70000.0  2021-06-25\n",
            "7         107    Helen         IT  62000.0         NaN\n"
          ]
        }
      ]
    },
    {
      "cell_type": "code",
      "source": [
        "df1 = df.ffill(limit=1)\n",
        "print(df1)"
      ],
      "metadata": {
        "colab": {
          "base_uri": "https://localhost:8080/"
        },
        "id": "2BOi9iubfp-d",
        "outputId": "e1b953af-9be2-4fed-99e2-b3656742f340"
      },
      "execution_count": null,
      "outputs": [
        {
          "output_type": "stream",
          "name": "stdout",
          "text": [
            "   EmployeeID     Name Department   Salary JoiningDate\n",
            "0         101    Alice         HR  50000.0  2020-01-15\n",
            "1         102      Bob         IT  60000.0  2019-03-10\n",
            "2         103  Charlie    Finance  70000.0  2021-06-25\n",
            "3         104    David         IT  70000.0  2018-11-05\n",
            "4         105    David         HR  52000.0  2020-09-01\n",
            "5         106    Frank         HR  58000.0  2022-01-20\n",
            "6         103  Charlie    Finance  70000.0  2021-06-25\n",
            "7         107    Helen         IT  62000.0  2021-06-25\n"
          ]
        }
      ]
    },
    {
      "cell_type": "code",
      "source": [
        "df3 = df.copy()\n",
        "df3 = df3.bfill()\n",
        "print(df3)\n"
      ],
      "metadata": {
        "colab": {
          "base_uri": "https://localhost:8080/"
        },
        "id": "JrsEnbkyfqG4",
        "outputId": "e2896929-d135-440d-ce3e-5836a635cb7c"
      },
      "execution_count": null,
      "outputs": [
        {
          "output_type": "stream",
          "name": "stdout",
          "text": [
            "   EmployeeID     Name Department   Salary JoiningDate\n",
            "0         101    Alice         HR  50000.0  2020-01-15\n",
            "1         102      Bob         IT  60000.0  2019-03-10\n",
            "2         103  Charlie    Finance  70000.0  2021-06-25\n",
            "3         104    David         IT  52000.0  2018-11-05\n",
            "4         105    Frank         HR  52000.0  2020-09-01\n",
            "5         106    Frank    Finance  58000.0  2022-01-20\n",
            "6         103  Charlie    Finance  70000.0  2021-06-25\n",
            "7         107    Helen         IT  62000.0         NaN\n"
          ]
        }
      ]
    },
    {
      "cell_type": "code",
      "source": [
        "df4 = df.dropna()\n",
        "print(df4)"
      ],
      "metadata": {
        "colab": {
          "base_uri": "https://localhost:8080/"
        },
        "id": "ZKRVwobVfqH_",
        "outputId": "ed9d991b-43a5-4364-ef8d-6de7347b17b2"
      },
      "execution_count": null,
      "outputs": [
        {
          "output_type": "stream",
          "name": "stdout",
          "text": [
            "   EmployeeID     Name Department   Salary JoiningDate\n",
            "0         101    Alice         HR  50000.0  2020-01-15\n",
            "1         102      Bob         IT  60000.0  2019-03-10\n",
            "2         103  Charlie    Finance  70000.0  2021-06-25\n",
            "6         103  Charlie    Finance  70000.0  2021-06-25\n"
          ]
        }
      ]
    },
    {
      "cell_type": "code",
      "source": [
        "df5 = df.replace({np.nan: 'Unknown'})\n",
        "print(df5)"
      ],
      "metadata": {
        "colab": {
          "base_uri": "https://localhost:8080/"
        },
        "id": "OB2pmhqgfqK0",
        "outputId": "d6df364a-8b14-49b0-81ca-18e431c33374"
      },
      "execution_count": null,
      "outputs": [
        {
          "output_type": "stream",
          "name": "stdout",
          "text": [
            "   EmployeeID     Name Department   Salary JoiningDate\n",
            "0         101    Alice         HR  50000.0  2020-01-15\n",
            "1         102      Bob         IT  60000.0  2019-03-10\n",
            "2         103  Charlie    Finance  70000.0  2021-06-25\n",
            "3         104    David         IT  Unknown  2018-11-05\n",
            "4         105  Unknown         HR  52000.0  2020-09-01\n",
            "5         106    Frank    Unknown  58000.0  2022-01-20\n",
            "6         103  Charlie    Finance  70000.0  2021-06-25\n",
            "7         107    Helen         IT  62000.0     Unknown\n"
          ]
        }
      ]
    },
    {
      "cell_type": "code",
      "source": [
        "duplicates = df[df.duplicated(keep=False)]\n",
        "print(duplicates)"
      ],
      "metadata": {
        "colab": {
          "base_uri": "https://localhost:8080/"
        },
        "id": "UYs4fR8-fqNk",
        "outputId": "5b06d343-b0a1-43e6-b4fe-cac35454febe"
      },
      "execution_count": null,
      "outputs": [
        {
          "output_type": "stream",
          "name": "stdout",
          "text": [
            "   EmployeeID     Name Department   Salary JoiningDate\n",
            "2         103  Charlie    Finance  70000.0  2021-06-25\n",
            "6         103  Charlie    Finance  70000.0  2021-06-25\n"
          ]
        }
      ]
    },
    {
      "cell_type": "code",
      "source": [
        "df6 = df.drop_duplicates(subset='EmployeeID', keep='first')\n",
        "print(df6)"
      ],
      "metadata": {
        "colab": {
          "base_uri": "https://localhost:8080/"
        },
        "id": "gy2b3YJ5fqPP",
        "outputId": "20231c5a-4439-4d8b-a3cd-61468a7dbdec"
      },
      "execution_count": null,
      "outputs": [
        {
          "output_type": "stream",
          "name": "stdout",
          "text": [
            "   EmployeeID     Name Department   Salary JoiningDate\n",
            "0         101    Alice         HR  50000.0  2020-01-15\n",
            "1         102      Bob         IT  60000.0  2019-03-10\n",
            "2         103  Charlie    Finance  70000.0  2021-06-25\n",
            "3         104    David         IT      NaN  2018-11-05\n",
            "4         105      NaN         HR  52000.0  2020-09-01\n",
            "5         106    Frank        NaN  58000.0  2022-01-20\n",
            "7         107    Helen         IT  62000.0         NaN\n"
          ]
        }
      ]
    },
    {
      "cell_type": "code",
      "source": [
        "df7 = df.loc[df['Department'].notna()]\n",
        "print(df7)"
      ],
      "metadata": {
        "colab": {
          "base_uri": "https://localhost:8080/"
        },
        "id": "w-rg9GARfqQT",
        "outputId": "9d790b61-e9b2-4cf0-8da1-94bee48750e3"
      },
      "execution_count": null,
      "outputs": [
        {
          "output_type": "stream",
          "name": "stdout",
          "text": [
            "   EmployeeID     Name Department   Salary JoiningDate\n",
            "0         101    Alice         HR  50000.0  2020-01-15\n",
            "1         102      Bob         IT  60000.0  2019-03-10\n",
            "2         103  Charlie    Finance  70000.0  2021-06-25\n",
            "3         104    David         IT      NaN  2018-11-05\n",
            "4         105      NaN         HR  52000.0  2020-09-01\n",
            "6         103  Charlie    Finance  70000.0  2021-06-25\n",
            "7         107    Helen         IT  62000.0         NaN\n"
          ]
        }
      ]
    },
    {
      "cell_type": "code",
      "source": [
        "df8 = df.groupby('EmployeeID').first().reset_index()\n",
        "print(df8)"
      ],
      "metadata": {
        "colab": {
          "base_uri": "https://localhost:8080/"
        },
        "id": "29FPhEVrfqTD",
        "outputId": "501a5471-510f-4dce-a518-4708fd42fd95"
      },
      "execution_count": null,
      "outputs": [
        {
          "output_type": "stream",
          "name": "stdout",
          "text": [
            "   EmployeeID     Name Department   Salary JoiningDate\n",
            "0         101    Alice         HR  50000.0  2020-01-15\n",
            "1         102      Bob         IT  60000.0  2019-03-10\n",
            "2         103  Charlie    Finance  70000.0  2021-06-25\n",
            "3         104    David         IT      NaN  2018-11-05\n",
            "4         105     None         HR  52000.0  2020-09-01\n",
            "5         106    Frank       None  58000.0  2022-01-20\n",
            "6         107    Helen         IT  62000.0        None\n"
          ]
        }
      ]
    },
    {
      "cell_type": "code",
      "source": [
        "df9 = df.isnull().sum()\n",
        "print(df9)"
      ],
      "metadata": {
        "colab": {
          "base_uri": "https://localhost:8080/"
        },
        "id": "h4GCLwsPfqVn",
        "outputId": "58971e85-4c57-4c9d-8066-d838033cf66c"
      },
      "execution_count": null,
      "outputs": [
        {
          "output_type": "stream",
          "name": "stdout",
          "text": [
            "EmployeeID     0\n",
            "Name           1\n",
            "Department     1\n",
            "Salary         1\n",
            "JoiningDate    1\n",
            "dtype: int64\n"
          ]
        }
      ]
    },
    {
      "cell_type": "code",
      "source": [
        "df10 = df.dropna()\n",
        "print(df10)"
      ],
      "metadata": {
        "colab": {
          "base_uri": "https://localhost:8080/"
        },
        "id": "F-suoGNgfqW1",
        "outputId": "57805e1d-162b-49e8-e477-a5f8c9fa0028"
      },
      "execution_count": null,
      "outputs": [
        {
          "output_type": "stream",
          "name": "stdout",
          "text": [
            "   EmployeeID     Name Department   Salary JoiningDate\n",
            "0         101    Alice         HR  50000.0  2020-01-15\n",
            "1         102      Bob         IT  60000.0  2019-03-10\n",
            "2         103  Charlie    Finance  70000.0  2021-06-25\n",
            "6         103  Charlie    Finance  70000.0  2021-06-25\n"
          ]
        }
      ]
    },
    {
      "cell_type": "code",
      "source": [],
      "metadata": {
        "id": "5o35hPWifqYc"
      },
      "execution_count": null,
      "outputs": []
    },
    {
      "cell_type": "code",
      "source": [],
      "metadata": {
        "id": "6PKLPJxjfqaO"
      },
      "execution_count": null,
      "outputs": []
    }
  ]
}